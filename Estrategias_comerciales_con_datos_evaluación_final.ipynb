{
  "cells": [
    {
      "cell_type": "code",
      "execution_count": null,
      "metadata": {
        "id": "cfMYd6XNpKHP"
      },
      "outputs": [],
      "source": [
        "!pip install -q eccd_datasets pygradus"
      ]
    },
    {
      "cell_type": "code",
      "execution_count": null,
      "metadata": {
        "id": "2oDSfvuzoCjW"
      },
      "outputs": [],
      "source": [
        "import io\n",
        "import json\n",
        "from PIL import Image\n",
        "from eccd_datasets import load_images\n",
        "\n",
        "import torch\n",
        "import torch.nn as nn\n",
        "import torchvision.models as models\n",
        "from torchvision.models import ResNet18_Weights\n",
        "import torch.optim as optim\n",
        "import torch.optim.lr_scheduler as lr_scheduler\n",
        "import torchvision.transforms as transforms\n",
        "import torchvision.models as models\n",
        "from torch.utils.data import Dataset, DataLoader"
      ]
    },
    {
      "cell_type": "code",
      "execution_count": null,
      "metadata": {
        "colab": {
          "base_uri": "https://localhost:8080/"
        },
        "id": "ZTElbgeQoyrA",
        "outputId": "666e84f6-4fca-405a-df55-c1002fc5b622"
      },
      "outputs": [
        {
          "output_type": "stream",
          "name": "stdout",
          "text": [
            "--2023-11-24 12:47:35--  https://files.fast.ai/models/imagenet_class_index.json\n",
            "Resolving files.fast.ai (files.fast.ai)... 104.26.3.19, 172.67.69.159, 104.26.2.19, ...\n",
            "Connecting to files.fast.ai (files.fast.ai)|104.26.3.19|:443... connected.\n",
            "HTTP request sent, awaiting response... 200 OK\n",
            "Length: 35363 (35K) [application/json]\n",
            "Saving to: ‘resnet_labels.json’\n",
            "\n",
            "\rresnet_labels.json    0%[                    ]       0  --.-KB/s               \rresnet_labels.json  100%[===================>]  34.53K  --.-KB/s    in 0.01s   \n",
            "\n",
            "2023-11-24 12:47:35 (2.32 MB/s) - ‘resnet_labels.json’ saved [35363/35363]\n",
            "\n"
          ]
        }
      ],
      "source": [
        "# Configuración inicial y carga de etiquetas\n",
        "torch.manual_seed(42)\n",
        "!wget https://files.fast.ai/models/imagenet_class_index.json -O resnet_labels.json\n",
        "with open(\"resnet_labels.json\", \"r\") as fh:\n",
        "    data = json.load(fh)\n",
        "resnet_labels = {int(k): v[1] for k, v in data.items()}"
      ]
    },
    {
      "cell_type": "code",
      "execution_count": null,
      "metadata": {
        "colab": {
          "base_uri": "https://localhost:8080/",
          "height": 206
        },
        "id": "DFsbBvUjo_XX",
        "outputId": "226a75be-5233-44f4-b031-09cd226f41d9"
      },
      "outputs": [
        {
          "output_type": "execute_result",
          "data": {
            "text/plain": [
              "  dataset coarse_cat   finegrained_cat  \\\n",
              "0   train      Apple  Golden-Delicious   \n",
              "1   train      Apple  Golden-Delicious   \n",
              "2   train      Apple  Golden-Delicious   \n",
              "3   train      Apple  Golden-Delicious   \n",
              "4   train      Apple  Golden-Delicious   \n",
              "\n",
              "                                          image_data  \n",
              "0  b'\\xff\\xd8\\xff\\xe0\\x00\\x10JFIF\\x00\\x01\\x01\\x00...  \n",
              "1  b'\\xff\\xd8\\xff\\xe0\\x00\\x10JFIF\\x00\\x01\\x01\\x00...  \n",
              "2  b'\\xff\\xd8\\xff\\xe0\\x00\\x10JFIF\\x00\\x01\\x01\\x00...  \n",
              "3  b'\\xff\\xd8\\xff\\xe0\\x00\\x10JFIF\\x00\\x01\\x01\\x00...  \n",
              "4  b'\\xff\\xd8\\xff\\xe0\\x00\\x10JFIF\\x00\\x01\\x01\\x00...  "
            ],
            "text/html": [
              "\n",
              "  <div id=\"df-d1c36f32-8f91-4de7-b1ca-7e4f097d0f95\" class=\"colab-df-container\">\n",
              "    <div>\n",
              "<style scoped>\n",
              "    .dataframe tbody tr th:only-of-type {\n",
              "        vertical-align: middle;\n",
              "    }\n",
              "\n",
              "    .dataframe tbody tr th {\n",
              "        vertical-align: top;\n",
              "    }\n",
              "\n",
              "    .dataframe thead th {\n",
              "        text-align: right;\n",
              "    }\n",
              "</style>\n",
              "<table border=\"1\" class=\"dataframe\">\n",
              "  <thead>\n",
              "    <tr style=\"text-align: right;\">\n",
              "      <th></th>\n",
              "      <th>dataset</th>\n",
              "      <th>coarse_cat</th>\n",
              "      <th>finegrained_cat</th>\n",
              "      <th>image_data</th>\n",
              "    </tr>\n",
              "  </thead>\n",
              "  <tbody>\n",
              "    <tr>\n",
              "      <th>0</th>\n",
              "      <td>train</td>\n",
              "      <td>Apple</td>\n",
              "      <td>Golden-Delicious</td>\n",
              "      <td>b'\\xff\\xd8\\xff\\xe0\\x00\\x10JFIF\\x00\\x01\\x01\\x00...</td>\n",
              "    </tr>\n",
              "    <tr>\n",
              "      <th>1</th>\n",
              "      <td>train</td>\n",
              "      <td>Apple</td>\n",
              "      <td>Golden-Delicious</td>\n",
              "      <td>b'\\xff\\xd8\\xff\\xe0\\x00\\x10JFIF\\x00\\x01\\x01\\x00...</td>\n",
              "    </tr>\n",
              "    <tr>\n",
              "      <th>2</th>\n",
              "      <td>train</td>\n",
              "      <td>Apple</td>\n",
              "      <td>Golden-Delicious</td>\n",
              "      <td>b'\\xff\\xd8\\xff\\xe0\\x00\\x10JFIF\\x00\\x01\\x01\\x00...</td>\n",
              "    </tr>\n",
              "    <tr>\n",
              "      <th>3</th>\n",
              "      <td>train</td>\n",
              "      <td>Apple</td>\n",
              "      <td>Golden-Delicious</td>\n",
              "      <td>b'\\xff\\xd8\\xff\\xe0\\x00\\x10JFIF\\x00\\x01\\x01\\x00...</td>\n",
              "    </tr>\n",
              "    <tr>\n",
              "      <th>4</th>\n",
              "      <td>train</td>\n",
              "      <td>Apple</td>\n",
              "      <td>Golden-Delicious</td>\n",
              "      <td>b'\\xff\\xd8\\xff\\xe0\\x00\\x10JFIF\\x00\\x01\\x01\\x00...</td>\n",
              "    </tr>\n",
              "  </tbody>\n",
              "</table>\n",
              "</div>\n",
              "    <div class=\"colab-df-buttons\">\n",
              "\n",
              "  <div class=\"colab-df-container\">\n",
              "    <button class=\"colab-df-convert\" onclick=\"convertToInteractive('df-d1c36f32-8f91-4de7-b1ca-7e4f097d0f95')\"\n",
              "            title=\"Convert this dataframe to an interactive table.\"\n",
              "            style=\"display:none;\">\n",
              "\n",
              "  <svg xmlns=\"http://www.w3.org/2000/svg\" height=\"24px\" viewBox=\"0 -960 960 960\">\n",
              "    <path d=\"M120-120v-720h720v720H120Zm60-500h600v-160H180v160Zm220 220h160v-160H400v160Zm0 220h160v-160H400v160ZM180-400h160v-160H180v160Zm440 0h160v-160H620v160ZM180-180h160v-160H180v160Zm440 0h160v-160H620v160Z\"/>\n",
              "  </svg>\n",
              "    </button>\n",
              "\n",
              "  <style>\n",
              "    .colab-df-container {\n",
              "      display:flex;\n",
              "      gap: 12px;\n",
              "    }\n",
              "\n",
              "    .colab-df-convert {\n",
              "      background-color: #E8F0FE;\n",
              "      border: none;\n",
              "      border-radius: 50%;\n",
              "      cursor: pointer;\n",
              "      display: none;\n",
              "      fill: #1967D2;\n",
              "      height: 32px;\n",
              "      padding: 0 0 0 0;\n",
              "      width: 32px;\n",
              "    }\n",
              "\n",
              "    .colab-df-convert:hover {\n",
              "      background-color: #E2EBFA;\n",
              "      box-shadow: 0px 1px 2px rgba(60, 64, 67, 0.3), 0px 1px 3px 1px rgba(60, 64, 67, 0.15);\n",
              "      fill: #174EA6;\n",
              "    }\n",
              "\n",
              "    .colab-df-buttons div {\n",
              "      margin-bottom: 4px;\n",
              "    }\n",
              "\n",
              "    [theme=dark] .colab-df-convert {\n",
              "      background-color: #3B4455;\n",
              "      fill: #D2E3FC;\n",
              "    }\n",
              "\n",
              "    [theme=dark] .colab-df-convert:hover {\n",
              "      background-color: #434B5C;\n",
              "      box-shadow: 0px 1px 3px 1px rgba(0, 0, 0, 0.15);\n",
              "      filter: drop-shadow(0px 1px 2px rgba(0, 0, 0, 0.3));\n",
              "      fill: #FFFFFF;\n",
              "    }\n",
              "  </style>\n",
              "\n",
              "    <script>\n",
              "      const buttonEl =\n",
              "        document.querySelector('#df-d1c36f32-8f91-4de7-b1ca-7e4f097d0f95 button.colab-df-convert');\n",
              "      buttonEl.style.display =\n",
              "        google.colab.kernel.accessAllowed ? 'block' : 'none';\n",
              "\n",
              "      async function convertToInteractive(key) {\n",
              "        const element = document.querySelector('#df-d1c36f32-8f91-4de7-b1ca-7e4f097d0f95');\n",
              "        const dataTable =\n",
              "          await google.colab.kernel.invokeFunction('convertToInteractive',\n",
              "                                                    [key], {});\n",
              "        if (!dataTable) return;\n",
              "\n",
              "        const docLinkHtml = 'Like what you see? Visit the ' +\n",
              "          '<a target=\"_blank\" href=https://colab.research.google.com/notebooks/data_table.ipynb>data table notebook</a>'\n",
              "          + ' to learn more about interactive tables.';\n",
              "        element.innerHTML = '';\n",
              "        dataTable['output_type'] = 'display_data';\n",
              "        await google.colab.output.renderOutput(dataTable, element);\n",
              "        const docLink = document.createElement('div');\n",
              "        docLink.innerHTML = docLinkHtml;\n",
              "        element.appendChild(docLink);\n",
              "      }\n",
              "    </script>\n",
              "  </div>\n",
              "\n",
              "\n",
              "<div id=\"df-cd78ce50-fa92-404c-8778-059e6ce6a1ac\">\n",
              "  <button class=\"colab-df-quickchart\" onclick=\"quickchart('df-cd78ce50-fa92-404c-8778-059e6ce6a1ac')\"\n",
              "            title=\"Suggest charts\"\n",
              "            style=\"display:none;\">\n",
              "\n",
              "<svg xmlns=\"http://www.w3.org/2000/svg\" height=\"24px\"viewBox=\"0 0 24 24\"\n",
              "     width=\"24px\">\n",
              "    <g>\n",
              "        <path d=\"M19 3H5c-1.1 0-2 .9-2 2v14c0 1.1.9 2 2 2h14c1.1 0 2-.9 2-2V5c0-1.1-.9-2-2-2zM9 17H7v-7h2v7zm4 0h-2V7h2v10zm4 0h-2v-4h2v4z\"/>\n",
              "    </g>\n",
              "</svg>\n",
              "  </button>\n",
              "\n",
              "<style>\n",
              "  .colab-df-quickchart {\n",
              "      --bg-color: #E8F0FE;\n",
              "      --fill-color: #1967D2;\n",
              "      --hover-bg-color: #E2EBFA;\n",
              "      --hover-fill-color: #174EA6;\n",
              "      --disabled-fill-color: #AAA;\n",
              "      --disabled-bg-color: #DDD;\n",
              "  }\n",
              "\n",
              "  [theme=dark] .colab-df-quickchart {\n",
              "      --bg-color: #3B4455;\n",
              "      --fill-color: #D2E3FC;\n",
              "      --hover-bg-color: #434B5C;\n",
              "      --hover-fill-color: #FFFFFF;\n",
              "      --disabled-bg-color: #3B4455;\n",
              "      --disabled-fill-color: #666;\n",
              "  }\n",
              "\n",
              "  .colab-df-quickchart {\n",
              "    background-color: var(--bg-color);\n",
              "    border: none;\n",
              "    border-radius: 50%;\n",
              "    cursor: pointer;\n",
              "    display: none;\n",
              "    fill: var(--fill-color);\n",
              "    height: 32px;\n",
              "    padding: 0;\n",
              "    width: 32px;\n",
              "  }\n",
              "\n",
              "  .colab-df-quickchart:hover {\n",
              "    background-color: var(--hover-bg-color);\n",
              "    box-shadow: 0 1px 2px rgba(60, 64, 67, 0.3), 0 1px 3px 1px rgba(60, 64, 67, 0.15);\n",
              "    fill: var(--button-hover-fill-color);\n",
              "  }\n",
              "\n",
              "  .colab-df-quickchart-complete:disabled,\n",
              "  .colab-df-quickchart-complete:disabled:hover {\n",
              "    background-color: var(--disabled-bg-color);\n",
              "    fill: var(--disabled-fill-color);\n",
              "    box-shadow: none;\n",
              "  }\n",
              "\n",
              "  .colab-df-spinner {\n",
              "    border: 2px solid var(--fill-color);\n",
              "    border-color: transparent;\n",
              "    border-bottom-color: var(--fill-color);\n",
              "    animation:\n",
              "      spin 1s steps(1) infinite;\n",
              "  }\n",
              "\n",
              "  @keyframes spin {\n",
              "    0% {\n",
              "      border-color: transparent;\n",
              "      border-bottom-color: var(--fill-color);\n",
              "      border-left-color: var(--fill-color);\n",
              "    }\n",
              "    20% {\n",
              "      border-color: transparent;\n",
              "      border-left-color: var(--fill-color);\n",
              "      border-top-color: var(--fill-color);\n",
              "    }\n",
              "    30% {\n",
              "      border-color: transparent;\n",
              "      border-left-color: var(--fill-color);\n",
              "      border-top-color: var(--fill-color);\n",
              "      border-right-color: var(--fill-color);\n",
              "    }\n",
              "    40% {\n",
              "      border-color: transparent;\n",
              "      border-right-color: var(--fill-color);\n",
              "      border-top-color: var(--fill-color);\n",
              "    }\n",
              "    60% {\n",
              "      border-color: transparent;\n",
              "      border-right-color: var(--fill-color);\n",
              "    }\n",
              "    80% {\n",
              "      border-color: transparent;\n",
              "      border-right-color: var(--fill-color);\n",
              "      border-bottom-color: var(--fill-color);\n",
              "    }\n",
              "    90% {\n",
              "      border-color: transparent;\n",
              "      border-bottom-color: var(--fill-color);\n",
              "    }\n",
              "  }\n",
              "</style>\n",
              "\n",
              "  <script>\n",
              "    async function quickchart(key) {\n",
              "      const quickchartButtonEl =\n",
              "        document.querySelector('#' + key + ' button');\n",
              "      quickchartButtonEl.disabled = true;  // To prevent multiple clicks.\n",
              "      quickchartButtonEl.classList.add('colab-df-spinner');\n",
              "      try {\n",
              "        const charts = await google.colab.kernel.invokeFunction(\n",
              "            'suggestCharts', [key], {});\n",
              "      } catch (error) {\n",
              "        console.error('Error during call to suggestCharts:', error);\n",
              "      }\n",
              "      quickchartButtonEl.classList.remove('colab-df-spinner');\n",
              "      quickchartButtonEl.classList.add('colab-df-quickchart-complete');\n",
              "    }\n",
              "    (() => {\n",
              "      let quickchartButtonEl =\n",
              "        document.querySelector('#df-cd78ce50-fa92-404c-8778-059e6ce6a1ac button');\n",
              "      quickchartButtonEl.style.display =\n",
              "        google.colab.kernel.accessAllowed ? 'block' : 'none';\n",
              "    })();\n",
              "  </script>\n",
              "</div>\n",
              "    </div>\n",
              "  </div>\n"
            ]
          },
          "metadata": {},
          "execution_count": 21
        }
      ],
      "source": [
        "# Carga de imágenes desde DataFrame\n",
        "df_images = load_images()\n",
        "df_images.head()"
      ]
    },
    {
      "cell_type": "code",
      "execution_count": null,
      "metadata": {
        "id": "n03RQkPmpX2n"
      },
      "outputs": [],
      "source": [
        "# Crear un mapeo de categorías a índices numéricos\n",
        "label_map = {category: idx for idx, category in enumerate(df_images['coarse_cat'].unique())}"
      ]
    },
    {
      "cell_type": "code",
      "execution_count": null,
      "metadata": {
        "id": "4ouZJbtWpdWv"
      },
      "outputs": [],
      "source": [
        "# Definición de la clase personalizada para Dataset\n",
        "class CustomDataset(Dataset):\n",
        "    def __init__(self, dataframe, label_map, transform=None):\n",
        "        self.dataframe = dataframe\n",
        "        self.label_map = label_map\n",
        "        self.transform = transform\n",
        "\n",
        "    def __len__(self):\n",
        "        return len(self.dataframe)\n",
        "\n",
        "    def __getitem__(self, idx):\n",
        "        if torch.is_tensor(idx):\n",
        "            idx = idx.tolist()\n",
        "\n",
        "        image_data = self.dataframe.iloc[idx, 3]\n",
        "        image = Image.open(io.BytesIO(image_data))\n",
        "        label = self.label_map[self.dataframe.iloc[idx, 1]]\n",
        "\n",
        "        if self.transform:\n",
        "            image = self.transform(image)\n",
        "\n",
        "        return image, torch.tensor(label)"
      ]
    },
    {
      "cell_type": "code",
      "execution_count": null,
      "metadata": {
        "id": "7XRaVdwRqK3n"
      },
      "outputs": [],
      "source": [
        "# Transformaciones\n",
        "transform = transforms.Compose([\n",
        "    transforms.Resize((224, 224)),\n",
        "    transforms.ToTensor(),\n",
        "])"
      ]
    },
    {
      "cell_type": "code",
      "execution_count": null,
      "metadata": {
        "id": "WdEp3wKbraHG"
      },
      "outputs": [],
      "source": [
        "# Crear conjuntos de datos\n",
        "train_data = df_images[df_images['dataset'] == 'train']\n",
        "val_data = df_images[df_images['dataset'] != 'train']"
      ]
    },
    {
      "cell_type": "code",
      "execution_count": null,
      "metadata": {
        "id": "DhSIHcLjvQSl"
      },
      "outputs": [],
      "source": [
        "train_dataset = CustomDataset(dataframe=train_data, label_map=label_map, transform=transform)\n",
        "val_dataset = CustomDataset(dataframe=val_data, label_map=label_map, transform=transform)"
      ]
    },
    {
      "cell_type": "code",
      "execution_count": null,
      "metadata": {
        "id": "eTVamEgLvTsl"
      },
      "outputs": [],
      "source": [
        "# Crear DataLoaders\n",
        "train_loader = DataLoader(train_dataset, batch_size=32, shuffle=True)\n",
        "val_loader = DataLoader(val_dataset, batch_size=32, shuffle=True)"
      ]
    },
    {
      "cell_type": "code",
      "execution_count": null,
      "metadata": {
        "id": "tYLbFIRIvqo1"
      },
      "outputs": [],
      "source": [
        "# Cargar el modelo ResNet preentrenado y modificarlo\n",
        "resnet = models.resnet18(weights=models.ResNet18_Weights.IMAGENET1K_V1)"
      ]
    },
    {
      "cell_type": "code",
      "execution_count": null,
      "metadata": {
        "id": "ye5OWMEVv3H1"
      },
      "outputs": [],
      "source": [
        "# Congelar todas las capas excepto la última\n",
        "for param in resnet.parameters():\n",
        "    param.requires_grad = False"
      ]
    },
    {
      "cell_type": "code",
      "execution_count": null,
      "metadata": {
        "id": "iXHKNrU_10j8"
      },
      "outputs": [],
      "source": [
        "# Modificar la última capa del ResNet para el número de clases específico\n",
        "num_features = resnet.fc.in_features\n",
        "resnet.fc = nn.Linear(num_features, len(label_map))"
      ]
    },
    {
      "cell_type": "code",
      "execution_count": null,
      "metadata": {
        "id": "LLZv3eMcxG49"
      },
      "outputs": [],
      "source": [
        "# Preparar el modelo para el entrenamiento\n",
        "criterion = nn.CrossEntropyLoss()\n",
        "#optimizer = optim.SGD(resnet.fc.parameters(), lr=0.001, momentum=0.9)\n",
        "#optimizer = optim.AdamW(resnet.fc.parameters(), lr=0.001)\n",
        "optimizer = optim.RMSprop(resnet.fc.parameters(), lr=0.001, momentum=0.9)\n",
        "scheduler = lr_scheduler.ReduceLROnPlateau(optimizer, 'min', patience=5)"
      ]
    },
    {
      "cell_type": "code",
      "execution_count": null,
      "metadata": {
        "id": "4FCEJmF8xEx9"
      },
      "outputs": [],
      "source": [
        "def train_model(model, train_loader, val_loader, criterion, optimizer, scheduler, num_epochs=25):\n",
        "    for epoch in range(num_epochs):\n",
        "        model.train()\n",
        "        running_loss = 0.0\n",
        "        running_corrects = 0\n",
        "\n",
        "        # Iterar sobre los datos de entrenamiento\n",
        "        for inputs, labels in train_loader:\n",
        "            optimizer.zero_grad()\n",
        "\n",
        "            # Forward\n",
        "            outputs = model(inputs)\n",
        "            _, preds = torch.max(outputs, 1)\n",
        "            loss = criterion(outputs, labels)\n",
        "\n",
        "            # Backward + optimize\n",
        "            loss.backward()\n",
        "            optimizer.step()\n",
        "\n",
        "            running_loss += loss.item() * inputs.size(0)\n",
        "            running_corrects += torch.sum(preds == labels.data)\n",
        "\n",
        "        epoch_loss = running_loss / len(train_loader.dataset)\n",
        "        epoch_acc = running_corrects.double() / len(train_loader.dataset)\n",
        "\n",
        "        print(f'Epoch {epoch}/{num_epochs - 1}, Loss: {epoch_loss:.4f}, Acc: {epoch_acc:.4f}')\n",
        "\n",
        "        # Evaluar el modelo en el conjunto de validación\n",
        "        model.eval()\n",
        "        val_loss = 0.0\n",
        "        val_corrects = 0\n",
        "        with torch.no_grad():\n",
        "            for inputs, labels in val_loader:\n",
        "                outputs = model(inputs)\n",
        "                _, preds = torch.max(outputs, 1)\n",
        "                loss = criterion(outputs, labels)\n",
        "                val_loss += loss.item() * inputs.size(0)\n",
        "                val_corrects += torch.sum(preds == labels.data)\n",
        "\n",
        "        val_loss = val_loss / len(val_loader.dataset)\n",
        "        val_acc = val_corrects.double() / len(val_loader.dataset)\n",
        "        print(f'Validation Loss: {val_loss:.4f}, Acc: {val_acc:.4f}')\n",
        "        scheduler.step(val_loss)"
      ]
    },
    {
      "cell_type": "code",
      "execution_count": null,
      "metadata": {
        "colab": {
          "base_uri": "https://localhost:8080/"
        },
        "id": "eZ2OXt3DyOak",
        "outputId": "31b75f9c-ad94-4aa7-c3ae-3732718ef2f7"
      },
      "outputs": [
        {
          "output_type": "stream",
          "name": "stdout",
          "text": [
            "Epoch 0/31, Loss: 0.9230, Acc: 0.9259\n",
            "Validation Loss: 4.2766, Acc: 0.7745\n",
            "Epoch 1/31, Loss: 0.4072, Acc: 0.9541\n",
            "Validation Loss: 3.1312, Acc: 0.8071\n",
            "Epoch 2/31, Loss: 0.4464, Acc: 0.9585\n",
            "Validation Loss: 2.1995, Acc: 0.8165\n",
            "Epoch 3/31, Loss: 0.2461, Acc: 0.9659\n",
            "Validation Loss: 2.9941, Acc: 0.8071\n",
            "Epoch 4/31, Loss: 0.4352, Acc: 0.9363\n",
            "Validation Loss: 3.1679, Acc: 0.7636\n",
            "Epoch 5/31, Loss: 0.1512, Acc: 0.9719\n",
            "Validation Loss: 2.3260, Acc: 0.8078\n",
            "Epoch 6/31, Loss: 0.1014, Acc: 0.9748\n",
            "Validation Loss: 2.6063, Acc: 0.8093\n",
            "Epoch 7/31, Loss: 0.1417, Acc: 0.9807\n",
            "Validation Loss: 2.0061, Acc: 0.8180\n",
            "Epoch 8/31, Loss: 0.1224, Acc: 0.9748\n",
            "Validation Loss: 3.8411, Acc: 0.7687\n",
            "Epoch 9/31, Loss: 0.1682, Acc: 0.9689\n",
            "Validation Loss: 2.7106, Acc: 0.7912\n",
            "Epoch 10/31, Loss: 0.1463, Acc: 0.9793\n",
            "Validation Loss: 2.0486, Acc: 0.8231\n",
            "Epoch 11/31, Loss: 0.4793, Acc: 0.9333\n",
            "Validation Loss: 3.5959, Acc: 0.7788\n",
            "Epoch 12/31, Loss: 0.2751, Acc: 0.9630\n",
            "Validation Loss: 2.6743, Acc: 0.8209\n",
            "Epoch 13/31, Loss: 0.2348, Acc: 0.9896\n",
            "Validation Loss: 1.7383, Acc: 0.8426\n",
            "Epoch 14/31, Loss: 0.4074, Acc: 0.9496\n",
            "Validation Loss: 2.5280, Acc: 0.7897\n",
            "Epoch 15/31, Loss: 0.1458, Acc: 0.9748\n",
            "Validation Loss: 2.0517, Acc: 0.8238\n",
            "Epoch 16/31, Loss: 0.0621, Acc: 0.9911\n",
            "Validation Loss: 1.9764, Acc: 0.8281\n",
            "Epoch 17/31, Loss: 0.1216, Acc: 0.9807\n",
            "Validation Loss: 2.2925, Acc: 0.8071\n",
            "Epoch 18/31, Loss: 0.1432, Acc: 0.9926\n",
            "Validation Loss: 2.2564, Acc: 0.8115\n",
            "Epoch 19/31, Loss: 0.5576, Acc: 0.9274\n",
            "Validation Loss: 2.0699, Acc: 0.8383\n",
            "Epoch 20/31, Loss: 0.0324, Acc: 0.9911\n",
            "Validation Loss: 1.7838, Acc: 0.8470\n",
            "Epoch 21/31, Loss: 0.0397, Acc: 0.9941\n",
            "Validation Loss: 1.9676, Acc: 0.8339\n",
            "Epoch 22/31, Loss: 0.0710, Acc: 0.9881\n",
            "Validation Loss: 2.0156, Acc: 0.8310\n",
            "Epoch 23/31, Loss: 0.0141, Acc: 0.9956\n",
            "Validation Loss: 1.9140, Acc: 0.8376\n",
            "Epoch 24/31, Loss: 0.0252, Acc: 0.9926\n",
            "Validation Loss: 1.9004, Acc: 0.8354\n",
            "Epoch 25/31, Loss: 0.0160, Acc: 0.9956\n",
            "Validation Loss: 2.2275, Acc: 0.8078\n",
            "Epoch 26/31, Loss: 0.0241, Acc: 0.9926\n",
            "Validation Loss: 2.0431, Acc: 0.8071\n",
            "Epoch 27/31, Loss: 0.0028, Acc: 0.9985\n",
            "Validation Loss: 2.1353, Acc: 0.8071\n",
            "Epoch 28/31, Loss: 0.0198, Acc: 0.9956\n",
            "Validation Loss: 2.1366, Acc: 0.8115\n",
            "Epoch 29/31, Loss: 0.0540, Acc: 0.9896\n",
            "Validation Loss: 2.1663, Acc: 0.8187\n",
            "Epoch 30/31, Loss: 0.0050, Acc: 0.9985\n",
            "Validation Loss: 2.0723, Acc: 0.8151\n",
            "Epoch 31/31, Loss: 0.0267, Acc: 0.9941\n",
            "Validation Loss: 1.9972, Acc: 0.8158\n"
          ]
        }
      ],
      "source": [
        "# Entrenar el modelo\n",
        "train_model(resnet, train_loader, val_loader, criterion, optimizer, scheduler, num_epochs=32)"
      ]
    },
    {
      "cell_type": "markdown",
      "source": [
        "--------------------------------------------------------------------------"
      ],
      "metadata": {
        "id": "1rXKZlVW41KI"
      }
    },
    {
      "cell_type": "code",
      "execution_count": null,
      "metadata": {
        "id": "K0-vfxBVvyQV"
      },
      "outputs": [],
      "source": [
        "def obtener_predicciones(modelo, data_loader):\n",
        "    modelo.eval()\n",
        "    predicciones = []\n",
        "    etiquetas_reales = []\n",
        "    with torch.no_grad():\n",
        "        for imagenes, etiquetas in data_loader:\n",
        "            outputs = modelo(imagenes)\n",
        "            _, preds = torch.max(outputs, 1)\n",
        "            predicciones.extend(preds.tolist())\n",
        "            etiquetas_reales.extend(etiquetas.tolist())\n",
        "    return predicciones, etiquetas_reales\n",
        "\n",
        "predicciones, etiquetas_reales = obtener_predicciones(resnet, val_loader)\n"
      ]
    },
    {
      "cell_type": "code",
      "execution_count": null,
      "metadata": {
        "id": "RNYMbZn4g6On"
      },
      "outputs": [],
      "source": [
        "nombre_categorias = {v: k for k, v in label_map.items()}\n",
        "\n",
        "predicciones_nombres = [nombre_categorias[i] for i in predicciones]\n",
        "etiquetas_reales_nombres = [nombre_categorias[i] for i in etiquetas_reales]\n"
      ]
    },
    {
      "cell_type": "code",
      "source": [
        "def calcular_costo_y_contar(predicho, real, precios):\n",
        "    costo = 0\n",
        "    cobro_de_mas = 0\n",
        "    cobro_de_menos = 0\n",
        "    aciertos = 0\n",
        "\n",
        "    if predicho == real:\n",
        "        aciertos = 1\n",
        "    elif precios[predicho] > precios[real]:\n",
        "        costo = 5 * (precios[predicho] - precios[real])\n",
        "        cobro_de_mas = 1\n",
        "    else:\n",
        "        costo = precios[real] - precios[predicho]\n",
        "        cobro_de_menos = 1\n",
        "\n",
        "    return costo, cobro_de_mas, cobro_de_menos, aciertos"
      ],
      "metadata": {
        "id": "Xp8SltInKx9i"
      },
      "execution_count": null,
      "outputs": []
    },
    {
      "cell_type": "code",
      "source": [
        "# Precios por categoría\n",
        "precios = {\n",
        "    \"Apple\": 74,\n",
        "    \"Pear\": 89,\n",
        "    \"Satsumas\": 44,\n",
        "    \"Melon\": 109,\n",
        "    \"Orange\": 35\n",
        "}"
      ],
      "metadata": {
        "id": "k1rUmlpGKyeh"
      },
      "execution_count": null,
      "outputs": []
    },
    {
      "cell_type": "code",
      "source": [
        "# Calcular el costo total y contar errores y aciertos\n",
        "costo_total = 0\n",
        "total_cobro_de_mas = 0\n",
        "total_cobro_de_menos = 0\n",
        "total_aciertos = 0\n",
        "\n",
        "for real, predicho in zip(etiquetas_reales_nombres, predicciones_nombres):\n",
        "    costo, cobro_de_mas, cobro_de_menos, aciertos = calcular_costo_y_contar(predicho, real, precios)\n",
        "    costo_total += costo\n",
        "    total_cobro_de_mas += cobro_de_mas\n",
        "    total_cobro_de_menos += cobro_de_menos\n",
        "    total_aciertos += aciertos\n",
        "\n",
        "print(\"Costo total de errores:\", costo_total)\n",
        "print(\"Total de veces cobrando de más:\", total_cobro_de_mas)\n",
        "print(\"Total de veces cobrando de menos:\", total_cobro_de_menos)\n",
        "print(\"Total de aciertos:\", total_aciertos)"
      ],
      "metadata": {
        "colab": {
          "base_uri": "https://localhost:8080/"
        },
        "id": "bdVTkbM5K3OH",
        "outputId": "1ba27008-151b-4aff-c5aa-ff1aa3cec07c"
      },
      "execution_count": null,
      "outputs": [
        {
          "output_type": "stream",
          "name": "stdout",
          "text": [
            "Costo total de errores: 9315\n",
            "Total de veces cobrando de más: 70\n",
            "Total de veces cobrando de menos: 184\n",
            "Total de aciertos: 1125\n"
          ]
        }
      ]
    },
    {
      "cell_type": "code",
      "source": [
        "def calcular_aciertos_y_pruebas_por_categoria(predicciones, etiquetas_reales):\n",
        "    # Crear diccionarios para contar aciertos y pruebas por categoría\n",
        "    aciertos_por_categoria = {categoria: 0 for categoria in nombre_categorias.values()}\n",
        "    pruebas_por_categoria = {categoria: 0 for categoria in nombre_categorias.values()}\n",
        "\n",
        "    for pred, real in zip(predicciones, etiquetas_reales):\n",
        "        pruebas_por_categoria[real] += 1\n",
        "        if pred == real:\n",
        "            aciertos_por_categoria[pred] += 1\n",
        "\n",
        "    return aciertos_por_categoria, pruebas_por_categoria\n",
        "\n",
        "# Contar los aciertos y pruebas por categoría\n",
        "aciertos_por_categoria, pruebas_por_categoria = calcular_aciertos_y_pruebas_por_categoria(predicciones_nombres, etiquetas_reales_nombres)\n",
        "\n",
        "# Mostrar los aciertos, pruebas y porcentaje de aciertos por categoría\n",
        "for categoria in nombre_categorias.values():\n",
        "    aciertos = aciertos_por_categoria[categoria]\n",
        "    pruebas = pruebas_por_categoria[categoria]\n",
        "    porcentaje_aciertos = (aciertos / pruebas * 100) if pruebas > 0 else 0\n",
        "    print(f\"Categoría {categoria}: {aciertos} aciertos de {pruebas} pruebas ({porcentaje_aciertos:.2f}% de aciertos)\")\n"
      ],
      "metadata": {
        "colab": {
          "base_uri": "https://localhost:8080/"
        },
        "id": "F2ztso5wkDg0",
        "outputId": "4126a320-21dc-46ee-bfa3-e31dfc5513b6"
      },
      "execution_count": null,
      "outputs": [
        {
          "output_type": "stream",
          "name": "stdout",
          "text": [
            "Categoría Apple: 536 aciertos de 574 pruebas (93.38% de aciertos)\n",
            "Categoría Pear: 172 aciertos de 221 pruebas (77.83% de aciertos)\n",
            "Categoría Satsumas: 56 aciertos de 141 pruebas (39.72% de aciertos)\n",
            "Categoría Melon: 271 aciertos de 326 pruebas (83.13% de aciertos)\n",
            "Categoría Orange: 90 aciertos de 117 pruebas (76.92% de aciertos)\n"
          ]
        }
      ]
    }
  ],
  "metadata": {
    "colab": {
      "provenance": []
    },
    "kernelspec": {
      "display_name": "Python 3",
      "name": "python3"
    },
    "language_info": {
      "name": "python"
    }
  },
  "nbformat": 4,
  "nbformat_minor": 0
}